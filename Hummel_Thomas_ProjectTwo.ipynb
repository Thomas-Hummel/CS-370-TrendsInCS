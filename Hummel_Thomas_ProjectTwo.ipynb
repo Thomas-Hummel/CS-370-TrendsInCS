{
 "cells": [
  {
   "cell_type": "markdown",
   "metadata": {},
   "source": [
    "# Treasure Hunt Game Notebook\n",
    "\n",
    "## Read and Review Your Starter Code\n",
    "The theme of this project is a popular treasure hunt game in which the player needs to find the treasure before the pirate does. While you will not be developing the entire game, you will write the part of the game that represents the intelligent agent, which is a pirate in this case. The pirate will try to find the optimal path to the treasure using deep Q-learning. \n",
    "\n",
    "You have been provided with two Python classes and this notebook to help you with this assignment. The first class, TreasureMaze.py, represents the environment, which includes a maze object defined as a matrix. The second class, GameExperience.py, stores the episodes – that is, all the states that come in between the initial state and the terminal state. This is later used by the agent for learning by experience, called \"exploration\". This notebook shows how to play a game. Your task is to complete the deep Q-learning implementation for which a skeleton implementation has been provided. The code blocks you will need to complete has #TODO as a header.\n",
    "\n",
    "First, read and review the next few code and instruction blocks to understand the code that you have been given."
   ]
  },
  {
   "cell_type": "code",
   "execution_count": 1,
   "metadata": {},
   "outputs": [
    {
     "name": "stderr",
     "output_type": "stream",
     "text": [
      "Using TensorFlow backend.\n"
     ]
    }
   ],
   "source": [
    "from __future__ import print_function\n",
    "import os, sys, time, datetime, json, random\n",
    "import numpy as np\n",
    "from keras.models import Sequential\n",
    "from keras.layers.core import Dense, Activation\n",
    "from keras.optimizers import SGD , Adam, RMSprop\n",
    "from keras.layers.advanced_activations import PReLU\n",
    "import matplotlib.pyplot as plt\n",
    "from TreasureMaze import TreasureMaze\n",
    "from GameExperience import GameExperience\n",
    "%matplotlib inline"
   ]
  },
  {
   "cell_type": "markdown",
   "metadata": {},
   "source": [
    "The following code block contains an 8x8 matrix that will be used as a maze object:"
   ]
  },
  {
   "cell_type": "code",
   "execution_count": 2,
   "metadata": {},
   "outputs": [],
   "source": [
    "maze = np.array([\n",
    "    [ 1.,  0.,  1.,  1.,  1.,  1.,  1.,  1.],\n",
    "    [ 1.,  0.,  1.,  1.,  1.,  0.,  1.,  1.],\n",
    "    [ 1.,  1.,  1.,  1.,  0.,  1.,  0.,  1.],\n",
    "    [ 1.,  1.,  1.,  0.,  1.,  1.,  1.,  1.],\n",
    "    [ 1.,  1.,  0.,  1.,  1.,  1.,  1.,  1.],\n",
    "    [ 1.,  1.,  1.,  0.,  1.,  0.,  0.,  0.],\n",
    "    [ 1.,  1.,  1.,  0.,  1.,  1.,  1.,  1.],\n",
    "    [ 1.,  1.,  1.,  1.,  0.,  1.,  1.,  1.]\n",
    "])"
   ]
  },
  {
   "cell_type": "markdown",
   "metadata": {},
   "source": [
    "This helper function allows a visual representation of the maze object:"
   ]
  },
  {
   "cell_type": "code",
   "execution_count": 3,
   "metadata": {},
   "outputs": [],
   "source": [
    "def show(qmaze):\n",
    "    plt.grid('on')\n",
    "    nrows, ncols = qmaze.maze.shape\n",
    "    ax = plt.gca()\n",
    "    ax.set_xticks(np.arange(0.5, nrows, 1))\n",
    "    ax.set_yticks(np.arange(0.5, ncols, 1))\n",
    "    ax.set_xticklabels([])\n",
    "    ax.set_yticklabels([])\n",
    "    canvas = np.copy(qmaze.maze)\n",
    "    for row,col in qmaze.visited:\n",
    "        canvas[row,col] = 0.6\n",
    "    pirate_row, pirate_col, _ = qmaze.state\n",
    "    canvas[pirate_row, pirate_col] = 0.3   # pirate cell\n",
    "    canvas[nrows-1, ncols-1] = 0.9 # treasure cell\n",
    "    img = plt.imshow(canvas, interpolation='none', cmap='gray')\n",
    "    return img"
   ]
  },
  {
   "cell_type": "markdown",
   "metadata": {},
   "source": [
    "The pirate agent can move in four directions: left, right, up, and down. \n",
    "\n",
    "While the agent primarily learns by experience through exploitation, often, the agent can choose to explore the environment to find previously undiscovered paths. This is called \"exploration\" and is defined by epsilon. This value is typically a lower value such as 0.1, which means for every ten attempts, the agent will attempt to learn by experience nine times and will randomly explore a new path one time. You are encouraged to try various values for the exploration factor and see how the algorithm performs."
   ]
  },
  {
   "cell_type": "code",
   "execution_count": 4,
   "metadata": {},
   "outputs": [],
   "source": [
    "LEFT = 0\n",
    "UP = 1\n",
    "RIGHT = 2\n",
    "DOWN = 3\n",
    "\n",
    "\n",
    "# Exploration factor\n",
    "epsilon = 0.1\n",
    "\n",
    "# Actions dictionary\n",
    "actions_dict = {\n",
    "    LEFT: 'left',\n",
    "    UP: 'up',\n",
    "    RIGHT: 'right',\n",
    "    DOWN: 'down',\n",
    "}\n",
    "\n",
    "num_actions = len(actions_dict)\n"
   ]
  },
  {
   "cell_type": "markdown",
   "metadata": {},
   "source": [
    "The sample code block and output below show creating a maze object and performing one action (DOWN), which returns the reward. The resulting updated environment is visualized."
   ]
  },
  {
   "cell_type": "code",
   "execution_count": 5,
   "metadata": {},
   "outputs": [
    {
     "name": "stdout",
     "output_type": "stream",
     "text": [
      "reward= -0.04\n"
     ]
    },
    {
     "data": {
      "text/plain": [
       "<matplotlib.image.AxesImage at 0x2d18f621dc8>"
      ]
     },
     "execution_count": 5,
     "metadata": {},
     "output_type": "execute_result"
    },
    {
     "data": {
      "image/png": "[encoded data removed]",
      "text/plain": [
       "<Figure size 432x288 with 1 Axes>"
      ]
     },
     "metadata": {
      "needs_background": "light"
     },
     "output_type": "display_data"
    }
   ],
   "source": [
    "qmaze = TreasureMaze(maze)\n",
    "canvas, reward, game_over = qmaze.act(DOWN)\n",
    "print(\"reward=\", reward)\n",
    "show(qmaze)"
   ]
  },
  {
   "cell_type": "markdown",
   "metadata": {},
   "source": [
    "This function simulates a full game based on the provided trained model. The other parameters include the TreasureMaze object and the starting position of the pirate."
   ]
  },
  {
   "cell_type": "code",
   "execution_count": 6,
   "metadata": {},
   "outputs": [],
   "source": [
    "def play_game(model, qmaze, pirate_cell):\n",
    "    qmaze.reset(pirate_cell)\n",
    "    envstate = qmaze.observe()\n",
    "    while True:\n",
    "        prev_envstate = envstate\n",
    "        # get next action\n",
    "        q = model.predict(prev_envstate)\n",
    "        action = np.argmax(q[0])\n",
    "\n",
    "        # apply action, get rewards and new state\n",
    "        envstate, reward, game_status = qmaze.act(action)\n",
    "        if game_status == 'win':\n",
    "            return True\n",
    "        elif game_status == 'lose':\n",
    "            return False"
   ]
  },
  {
   "cell_type": "markdown",
   "metadata": {},
   "source": [
    "This function helps you to determine whether the pirate can win any game at all. If your maze is not well designed, the pirate may not win any game at all. In this case, your training would not yield any result. The provided maze in this notebook ensures that there is a path to win and you can run this method to check."
   ]
  },
  {
   "cell_type": "code",
   "execution_count": 7,
   "metadata": {},
   "outputs": [],
   "source": [
    "def completion_check(model, qmaze):\n",
    "    for cell in qmaze.free_cells:\n",
    "        if not qmaze.valid_actions(cell):\n",
    "            return False\n",
    "        if not play_game(model, qmaze, cell):\n",
    "            return False\n",
    "    return True"
   ]
  },
  {
   "cell_type": "markdown",
   "metadata": {},
   "source": [
    "The code you have been given in this block will build the neural network model. Review the code and note the number of layers, as well as the activation, optimizer, and loss functions that are used to train the model."
   ]
  },
  {
   "cell_type": "code",
   "execution_count": 8,
   "metadata": {},
   "outputs": [],
   "source": [
    "def build_model(maze):\n",
    "    model = Sequential()\n",
    "    model.add(Dense(maze.size, input_shape=(maze.size,)))\n",
    "    model.add(PReLU())\n",
    "    model.add(Dense(maze.size))\n",
    "    model.add(PReLU())\n",
    "    model.add(Dense(num_actions))\n",
    "    model.compile(optimizer='adam', loss='mse')\n",
    "    return model"
   ]
  },
  {
   "cell_type": "markdown",
   "metadata": {},
   "source": [
    "# #TODO: Complete the Q-Training Algorithm Code Block\n",
    "\n",
    "This is your deep Q-learning implementation. The goal of your deep Q-learning implementation is to find the best possible navigation sequence that results in reaching the treasure cell while maximizing the reward. In your implementation, you need to determine the optimal number of epochs to achieve a 100% win rate.\n",
    "\n",
    "You will need to complete the section starting with #pseudocode. The pseudocode has been included for you."
   ]
  },
  {
   "cell_type": "code",
   "execution_count": 9,
   "metadata": {},
   "outputs": [],
   "source": [
    "def qtrain(model, maze, **opt):\n",
    "\n",
    "    # exploration factor\n",
    "    global epsilon \n",
    "\n",
    "    # number of epochs\n",
    "    n_epoch = opt.get('n_epoch', 15000)\n",
    "\n",
    "    # maximum memory to store episodes\n",
    "    max_memory = opt.get('max_memory', 1000)\n",
    "\n",
    "    # maximum data size for training\n",
    "    data_size = opt.get('data_size', 50)\n",
    "\n",
    "    # start time\n",
    "    start_time = datetime.datetime.now()\n",
    "\n",
    "    # Construct environment/game from numpy array: maze (see above)\n",
    "    qmaze = TreasureMaze(maze)\n",
    "\n",
    "    # Initialize experience replay object\n",
    "    experience = GameExperience(model, max_memory=max_memory)\n",
    "    \n",
    "    win_history = []   # history of win/lose game\n",
    "    hsize = qmaze.maze.size//2   # history window size\n",
    "    win_rate = 0.0\n",
    "    \n",
    "    # Loop through for each epoch to be run    \n",
    "    for epoch in range(n_epoch):\n",
    "        # Place the agent (pirate) in a cell at random. The maze is 8x8, so indexes of 0-7 and an x, y hence size=2\n",
    "        Agent_cell = np.random.randint(low=0, high=8, size=2)\n",
    "\n",
    "        # Reset the maze with this starting cell\n",
    "        qmaze.reset(Agent_cell)\n",
    "        n_episodes = 0\n",
    "\n",
    "        envstate = qmaze.observe()\n",
    "        game_over = False\n",
    "\n",
    "        # Loop until the game ends\n",
    "        while not game_over:\n",
    "            previous_envstate = envstate\n",
    "            n_episodes += 1\n",
    "            \n",
    "            actions = qmaze.valid_actions()\n",
    "            \n",
    "            # Randomly select action based on epsilon. Epsilon % of the time we'll make a random choice (exploration)\n",
    "            # The rest of the time we'll take the optimal action that we've found so far for this state (exploitation)\n",
    "            if np.random.rand() < epsilon:\n",
    "                action = random.choice(actions)\n",
    "            else:\n",
    "                action = np.argmax(experience.predict(envstate))   \n",
    "\n",
    "            # Now take that action\n",
    "            envstate, reward, game_status = qmaze.act(action)\n",
    "\n",
    "            # Save this episode in the experience replay object\n",
    "            episode = [previous_envstate, action, reward, envstate, game_status]\n",
    "            experience.remember(episode)\n",
    "\n",
    "            # Get the training data from the game experience so that we can now train our neural network\n",
    "            inputs, targets = experience.get_data(data_size=data_size)\n",
    "            \n",
    "            # Train our neural network then return the loss\n",
    "            nn_history = model.fit(inputs, targets, epochs=8, batch_size=16, verbose=0)\n",
    "            loss = model.evaluate(inputs, targets, verbose=0)\n",
    "\n",
    "            # Store the win history based on whether we won or not then update the win rate\n",
    "            if game_status == 'win':\n",
    "                win_history.append(1)\n",
    "                game_over = True\n",
    "            elif game_status == 'lose':\n",
    "                win_history.append(0)\n",
    "                game_over = True\n",
    "            else:\n",
    "                game_over = False\n",
    "\n",
    "        if len(win_history) > hsize:\n",
    "            win_rate = sum(win_history[-hsize:])/hsize\n",
    "\n",
    "        #Print the epoch, loss, episodes, win count, and win rate for each epoch\n",
    "        dt = datetime.datetime.now() - start_time\n",
    "        t = format_time(dt.total_seconds())\n",
    "        template = \"Epoch: {:03d}/{:d} | Loss: {:.4f} | Episodes: {:d} | Win count: {:d} | Win rate: {:.3f} | time: {}\"\n",
    "        print(template.format(epoch, n_epoch, loss, n_episodes, sum(win_history), win_rate, t))\n",
    "        # We simply check if training has exhausted all free cells and if in all\n",
    "        # cases the agent won.\n",
    "        if win_rate > 0.9 : epsilon = 0.05\n",
    "        print(\"hsize: %d - Sum of win_history: %d\" % (hsize, sum(win_history[-hsize:])))\n",
    "        if sum(win_history[-hsize:]) == hsize: #and completion_check(model, qmaze):\n",
    "            print(\"Reached 100%% win rate at epoch: %d\" % (epoch,))\n",
    "            break\n",
    "\n",
    "    # Determine the total time for training\n",
    "    dt = datetime.datetime.now() - start_time\n",
    "    seconds = dt.total_seconds()\n",
    "    t = format_time(seconds)\n",
    "\n",
    "    print(\"n_epoch: %d, max_mem: %d, data: %d, time: %s\" % (epoch, max_memory, data_size, t))\n",
    "    return seconds\n",
    "\n",
    "# This is a small utility for printing readable time strings:\n",
    "def format_time(seconds):\n",
    "    if seconds < 400:\n",
    "        s = float(seconds)\n",
    "        return \"%.1f seconds\" % (s,)\n",
    "    elif seconds < 4000:\n",
    "        m = seconds / 60.0\n",
    "        return \"%.2f minutes\" % (m,)\n",
    "    else:\n",
    "        h = seconds / 3600.0\n",
    "        return \"%.2f hours\" % (h,)"
   ]
  },
  {
   "cell_type": "markdown",
   "metadata": {},
   "source": [
    "## Test Your Model\n",
    "\n",
    "Now we will start testing the deep Q-learning implementation. To begin, select **Cell**, then **Run All** from the menu bar. This will run your notebook. As it runs, you should see output begin to appear beneath the next few cells. The code below creates an instance of TreasureMaze."
   ]
  },
  {
   "cell_type": "code",
   "execution_count": 10,
   "metadata": {},
   "outputs": [
    {
     "data": {
      "text/plain": [
       "<matplotlib.image.AxesImage at 0x2d18f6e38c8>"
      ]
     },
     "execution_count": 10,
     "metadata": {},
     "output_type": "execute_result"
    },
    {
     "data": {
      "image/png": "[encoded data removed]",
      "text/plain": [
       "<Figure size 432x288 with 1 Axes>"
      ]
     },
     "metadata": {
      "needs_background": "light"
     },
     "output_type": "display_data"
    }
   ],
   "source": [
    "qmaze = TreasureMaze(maze)\n",
    "show(qmaze)"
   ]
  },
  {
   "cell_type": "markdown",
   "metadata": {},
   "source": [
    "In the next code block, you will build your model and train it using deep Q-learning. Note: This step takes several minutes to fully run."
   ]
  },
  {
   "cell_type": "code",
   "execution_count": 11,
   "metadata": {},
   "outputs": [
    {
     "name": "stdout",
     "output_type": "stream",
     "text": [
      "Epoch: 000/1000 | Loss: 0.0003 | Episodes: 141 | Win count: 0 | Win rate: 0.000 | time: 15.0 seconds\n",
      "hsize: 32 - Sum of win_history: 0\n",
      "Epoch: 001/1000 | Loss: 0.0002 | Episodes: 141 | Win count: 0 | Win rate: 0.000 | time: 29.9 seconds\n",
      "hsize: 32 - Sum of win_history: 0\n",
      "Epoch: 002/1000 | Loss: 0.0003 | Episodes: 140 | Win count: 0 | Win rate: 0.000 | time: 46.6 seconds\n",
      "hsize: 32 - Sum of win_history: 0\n",
      "Epoch: 003/1000 | Loss: 0.0007 | Episodes: 144 | Win count: 0 | Win rate: 0.000 | time: 62.4 seconds\n",
      "hsize: 32 - Sum of win_history: 0\n",
      "Epoch: 004/1000 | Loss: 0.0008 | Episodes: 141 | Win count: 0 | Win rate: 0.000 | time: 77.6 seconds\n",
      "hsize: 32 - Sum of win_history: 0\n",
      "Epoch: 005/1000 | Loss: 0.0004 | Episodes: 106 | Win count: 1 | Win rate: 0.000 | time: 89.1 seconds\n",
      "hsize: 32 - Sum of win_history: 1\n",
      "Epoch: 006/1000 | Loss: 0.0003 | Episodes: 139 | Win count: 1 | Win rate: 0.000 | time: 105.2 seconds\n",
      "hsize: 32 - Sum of win_history: 1\n",
      "Epoch: 007/1000 | Loss: 0.0015 | Episodes: 145 | Win count: 1 | Win rate: 0.000 | time: 122.4 seconds\n",
      "hsize: 32 - Sum of win_history: 1\n",
      "Epoch: 008/1000 | Loss: 0.0002 | Episodes: 136 | Win count: 1 | Win rate: 0.000 | time: 140.4 seconds\n",
      "hsize: 32 - Sum of win_history: 1\n",
      "Epoch: 009/1000 | Loss: 0.0012 | Episodes: 11 | Win count: 2 | Win rate: 0.000 | time: 142.1 seconds\n",
      "hsize: 32 - Sum of win_history: 2\n",
      "Epoch: 010/1000 | Loss: 0.0005 | Episodes: 32 | Win count: 3 | Win rate: 0.000 | time: 146.0 seconds\n",
      "hsize: 32 - Sum of win_history: 3\n",
      "Epoch: 011/1000 | Loss: 0.0008 | Episodes: 95 | Win count: 4 | Win rate: 0.000 | time: 158.3 seconds\n",
      "hsize: 32 - Sum of win_history: 4\n",
      "Epoch: 012/1000 | Loss: 0.0022 | Episodes: 141 | Win count: 4 | Win rate: 0.000 | time: 175.2 seconds\n",
      "hsize: 32 - Sum of win_history: 4\n",
      "Epoch: 013/1000 | Loss: 0.0006 | Episodes: 143 | Win count: 4 | Win rate: 0.000 | time: 190.6 seconds\n",
      "hsize: 32 - Sum of win_history: 4\n",
      "Epoch: 014/1000 | Loss: 0.0009 | Episodes: 40 | Win count: 5 | Win rate: 0.000 | time: 195.7 seconds\n",
      "hsize: 32 - Sum of win_history: 5\n",
      "Epoch: 015/1000 | Loss: 0.0011 | Episodes: 145 | Win count: 5 | Win rate: 0.000 | time: 211.6 seconds\n",
      "hsize: 32 - Sum of win_history: 5\n",
      "Epoch: 016/1000 | Loss: 0.0004 | Episodes: 10 | Win count: 6 | Win rate: 0.000 | time: 212.9 seconds\n",
      "hsize: 32 - Sum of win_history: 6\n",
      "Epoch: 017/1000 | Loss: 0.0012 | Episodes: 69 | Win count: 7 | Win rate: 0.000 | time: 220.8 seconds\n",
      "hsize: 32 - Sum of win_history: 7\n",
      "Epoch: 018/1000 | Loss: 0.0012 | Episodes: 11 | Win count: 8 | Win rate: 0.000 | time: 222.0 seconds\n",
      "hsize: 32 - Sum of win_history: 8\n",
      "Epoch: 019/1000 | Loss: 0.0017 | Episodes: 44 | Win count: 9 | Win rate: 0.000 | time: 226.7 seconds\n",
      "hsize: 32 - Sum of win_history: 9\n",
      "Epoch: 020/1000 | Loss: 0.0019 | Episodes: 1 | Win count: 10 | Win rate: 0.000 | time: 226.9 seconds\n",
      "hsize: 32 - Sum of win_history: 10\n",
      "Epoch: 021/1000 | Loss: 0.0015 | Episodes: 19 | Win count: 11 | Win rate: 0.000 | time: 228.8 seconds\n",
      "hsize: 32 - Sum of win_history: 11\n",
      "Epoch: 022/1000 | Loss: 0.0011 | Episodes: 20 | Win count: 12 | Win rate: 0.000 | time: 231.0 seconds\n",
      "hsize: 32 - Sum of win_history: 12\n",
      "Epoch: 023/1000 | Loss: 0.0010 | Episodes: 81 | Win count: 13 | Win rate: 0.000 | time: 239.9 seconds\n",
      "hsize: 32 - Sum of win_history: 13\n",
      "Epoch: 024/1000 | Loss: 0.0013 | Episodes: 11 | Win count: 14 | Win rate: 0.000 | time: 241.1 seconds\n",
      "hsize: 32 - Sum of win_history: 14\n",
      "Epoch: 025/1000 | Loss: 0.0012 | Episodes: 119 | Win count: 15 | Win rate: 0.000 | time: 254.5 seconds\n",
      "hsize: 32 - Sum of win_history: 15\n",
      "Epoch: 026/1000 | Loss: 0.0008 | Episodes: 31 | Win count: 16 | Win rate: 0.000 | time: 257.9 seconds\n",
      "hsize: 32 - Sum of win_history: 16\n",
      "Epoch: 027/1000 | Loss: 0.0040 | Episodes: 7 | Win count: 17 | Win rate: 0.000 | time: 258.7 seconds\n",
      "hsize: 32 - Sum of win_history: 17\n",
      "Epoch: 028/1000 | Loss: 0.0015 | Episodes: 48 | Win count: 18 | Win rate: 0.000 | time: 263.6 seconds\n",
      "hsize: 32 - Sum of win_history: 18\n",
      "Epoch: 029/1000 | Loss: 0.0013 | Episodes: 40 | Win count: 19 | Win rate: 0.000 | time: 267.7 seconds\n",
      "hsize: 32 - Sum of win_history: 19\n",
      "Epoch: 030/1000 | Loss: 0.0006 | Episodes: 21 | Win count: 20 | Win rate: 0.000 | time: 270.2 seconds\n",
      "hsize: 32 - Sum of win_history: 20\n",
      "Epoch: 031/1000 | Loss: 0.0002 | Episodes: 51 | Win count: 21 | Win rate: 0.000 | time: 276.1 seconds\n",
      "hsize: 32 - Sum of win_history: 21\n",
      "Epoch: 032/1000 | Loss: 0.0005 | Episodes: 27 | Win count: 22 | Win rate: 0.688 | time: 278.9 seconds\n",
      "hsize: 32 - Sum of win_history: 22\n",
      "Epoch: 033/1000 | Loss: 0.0005 | Episodes: 27 | Win count: 23 | Win rate: 0.719 | time: 281.8 seconds\n",
      "hsize: 32 - Sum of win_history: 23\n",
      "Epoch: 034/1000 | Loss: 0.0005 | Episodes: 19 | Win count: 24 | Win rate: 0.750 | time: 283.8 seconds\n",
      "hsize: 32 - Sum of win_history: 24\n",
      "Epoch: 035/1000 | Loss: 0.0005 | Episodes: 35 | Win count: 25 | Win rate: 0.781 | time: 287.9 seconds\n",
      "hsize: 32 - Sum of win_history: 25\n",
      "Epoch: 036/1000 | Loss: 0.0010 | Episodes: 47 | Win count: 26 | Win rate: 0.812 | time: 293.0 seconds\n",
      "hsize: 32 - Sum of win_history: 26\n",
      "Epoch: 037/1000 | Loss: 0.0011 | Episodes: 1 | Win count: 27 | Win rate: 0.812 | time: 293.1 seconds\n",
      "hsize: 32 - Sum of win_history: 26\n",
      "Epoch: 038/1000 | Loss: 0.0009 | Episodes: 129 | Win count: 27 | Win rate: 0.812 | time: 308.6 seconds\n",
      "hsize: 32 - Sum of win_history: 26\n",
      "Epoch: 039/1000 | Loss: 0.0003 | Episodes: 14 | Win count: 28 | Win rate: 0.844 | time: 310.3 seconds\n",
      "hsize: 32 - Sum of win_history: 27\n",
      "Epoch: 040/1000 | Loss: 0.0002 | Episodes: 4 | Win count: 29 | Win rate: 0.875 | time: 310.8 seconds\n",
      "hsize: 32 - Sum of win_history: 28\n",
      "Epoch: 041/1000 | Loss: 0.0006 | Episodes: 8 | Win count: 30 | Win rate: 0.875 | time: 311.8 seconds\n",
      "hsize: 32 - Sum of win_history: 28\n",
      "Epoch: 042/1000 | Loss: 0.0004 | Episodes: 43 | Win count: 31 | Win rate: 0.875 | time: 316.8 seconds\n",
      "hsize: 32 - Sum of win_history: 28\n",
      "Epoch: 043/1000 | Loss: 0.0004 | Episodes: 25 | Win count: 32 | Win rate: 0.875 | time: 319.8 seconds\n",
      "hsize: 32 - Sum of win_history: 28\n",
      "Epoch: 044/1000 | Loss: 0.0005 | Episodes: 2 | Win count: 33 | Win rate: 0.906 | time: 320.0 seconds\n",
      "hsize: 32 - Sum of win_history: 29\n",
      "Epoch: 045/1000 | Loss: 0.0007 | Episodes: 30 | Win count: 34 | Win rate: 0.938 | time: 323.3 seconds\n",
      "hsize: 32 - Sum of win_history: 30\n",
      "Epoch: 046/1000 | Loss: 0.0007 | Episodes: 14 | Win count: 35 | Win rate: 0.938 | time: 325.0 seconds\n",
      "hsize: 32 - Sum of win_history: 30\n",
      "Epoch: 047/1000 | Loss: 0.0011 | Episodes: 6 | Win count: 36 | Win rate: 0.969 | time: 325.7 seconds\n",
      "hsize: 32 - Sum of win_history: 31\n",
      "Epoch: 048/1000 | Loss: 0.0003 | Episodes: 37 | Win count: 37 | Win rate: 0.969 | time: 329.6 seconds\n",
      "hsize: 32 - Sum of win_history: 31\n",
      "Epoch: 049/1000 | Loss: 0.0007 | Episodes: 114 | Win count: 38 | Win rate: 0.969 | time: 341.9 seconds\n",
      "hsize: 32 - Sum of win_history: 31\n",
      "Epoch: 050/1000 | Loss: 0.0002 | Episodes: 1 | Win count: 39 | Win rate: 0.969 | time: 341.9 seconds\n",
      "hsize: 32 - Sum of win_history: 31\n",
      "Epoch: 051/1000 | Loss: 0.0018 | Episodes: 16 | Win count: 40 | Win rate: 0.969 | time: 343.7 seconds\n",
      "hsize: 32 - Sum of win_history: 31\n",
      "Epoch: 052/1000 | Loss: 0.0005 | Episodes: 97 | Win count: 41 | Win rate: 0.969 | time: 354.1 seconds\n",
      "hsize: 32 - Sum of win_history: 31\n",
      "Epoch: 053/1000 | Loss: 0.0005 | Episodes: 8 | Win count: 42 | Win rate: 0.969 | time: 355.0 seconds\n",
      "hsize: 32 - Sum of win_history: 31\n",
      "Epoch: 054/1000 | Loss: 0.0006 | Episodes: 47 | Win count: 43 | Win rate: 0.969 | time: 359.9 seconds\n",
      "hsize: 32 - Sum of win_history: 31\n",
      "Epoch: 055/1000 | Loss: 0.0007 | Episodes: 1 | Win count: 44 | Win rate: 0.969 | time: 360.0 seconds\n",
      "hsize: 32 - Sum of win_history: 31\n",
      "Epoch: 056/1000 | Loss: 0.0002 | Episodes: 8 | Win count: 45 | Win rate: 0.969 | time: 361.0 seconds\n",
      "hsize: 32 - Sum of win_history: 31\n",
      "Epoch: 057/1000 | Loss: 0.0004 | Episodes: 7 | Win count: 46 | Win rate: 0.969 | time: 361.7 seconds\n",
      "hsize: 32 - Sum of win_history: 31\n",
      "Epoch: 058/1000 | Loss: 0.0010 | Episodes: 23 | Win count: 47 | Win rate: 0.969 | time: 364.1 seconds\n",
      "hsize: 32 - Sum of win_history: 31\n",
      "Epoch: 059/1000 | Loss: 0.0008 | Episodes: 107 | Win count: 48 | Win rate: 0.969 | time: 376.0 seconds\n",
      "hsize: 32 - Sum of win_history: 31\n",
      "Epoch: 060/1000 | Loss: 0.0007 | Episodes: 144 | Win count: 48 | Win rate: 0.938 | time: 391.7 seconds\n",
      "hsize: 32 - Sum of win_history: 30\n"
     ]
    },
    {
     "name": "stdout",
     "output_type": "stream",
     "text": [
      "Epoch: 061/1000 | Loss: 0.0007 | Episodes: 134 | Win count: 48 | Win rate: 0.906 | time: 6.77 minutes\n",
      "hsize: 32 - Sum of win_history: 29\n",
      "Epoch: 062/1000 | Loss: 0.0012 | Episodes: 138 | Win count: 48 | Win rate: 0.875 | time: 7.02 minutes\n",
      "hsize: 32 - Sum of win_history: 28\n",
      "Epoch: 063/1000 | Loss: 0.0002 | Episodes: 139 | Win count: 48 | Win rate: 0.844 | time: 7.27 minutes\n",
      "hsize: 32 - Sum of win_history: 27\n",
      "Epoch: 064/1000 | Loss: 0.0007 | Episodes: 2 | Win count: 49 | Win rate: 0.844 | time: 7.27 minutes\n",
      "hsize: 32 - Sum of win_history: 27\n",
      "Epoch: 065/1000 | Loss: 0.0004 | Episodes: 71 | Win count: 50 | Win rate: 0.844 | time: 7.40 minutes\n",
      "hsize: 32 - Sum of win_history: 27\n",
      "Epoch: 066/1000 | Loss: 0.0004 | Episodes: 31 | Win count: 51 | Win rate: 0.844 | time: 7.45 minutes\n",
      "hsize: 32 - Sum of win_history: 27\n",
      "Epoch: 067/1000 | Loss: 0.0005 | Episodes: 11 | Win count: 52 | Win rate: 0.844 | time: 7.47 minutes\n",
      "hsize: 32 - Sum of win_history: 27\n",
      "Epoch: 068/1000 | Loss: 0.0006 | Episodes: 39 | Win count: 53 | Win rate: 0.844 | time: 7.54 minutes\n",
      "hsize: 32 - Sum of win_history: 27\n",
      "Epoch: 069/1000 | Loss: 0.0003 | Episodes: 21 | Win count: 54 | Win rate: 0.844 | time: 7.58 minutes\n",
      "hsize: 32 - Sum of win_history: 27\n",
      "Epoch: 070/1000 | Loss: 0.0002 | Episodes: 12 | Win count: 55 | Win rate: 0.875 | time: 7.60 minutes\n",
      "hsize: 32 - Sum of win_history: 28\n",
      "Epoch: 071/1000 | Loss: 0.0006 | Episodes: 23 | Win count: 56 | Win rate: 0.875 | time: 7.64 minutes\n",
      "hsize: 32 - Sum of win_history: 28\n",
      "Epoch: 072/1000 | Loss: 0.0006 | Episodes: 98 | Win count: 57 | Win rate: 0.875 | time: 7.82 minutes\n",
      "hsize: 32 - Sum of win_history: 28\n",
      "Epoch: 073/1000 | Loss: 0.0001 | Episodes: 34 | Win count: 58 | Win rate: 0.875 | time: 7.88 minutes\n",
      "hsize: 32 - Sum of win_history: 28\n",
      "Epoch: 074/1000 | Loss: 0.0007 | Episodes: 7 | Win count: 59 | Win rate: 0.875 | time: 7.90 minutes\n",
      "hsize: 32 - Sum of win_history: 28\n",
      "Epoch: 075/1000 | Loss: 0.0001 | Episodes: 15 | Win count: 60 | Win rate: 0.875 | time: 7.93 minutes\n",
      "hsize: 32 - Sum of win_history: 28\n",
      "Epoch: 076/1000 | Loss: 0.0005 | Episodes: 25 | Win count: 61 | Win rate: 0.875 | time: 7.99 minutes\n",
      "hsize: 32 - Sum of win_history: 28\n",
      "Epoch: 077/1000 | Loss: 0.0004 | Episodes: 56 | Win count: 62 | Win rate: 0.875 | time: 8.11 minutes\n",
      "hsize: 32 - Sum of win_history: 28\n",
      "Epoch: 078/1000 | Loss: 0.0007 | Episodes: 30 | Win count: 63 | Win rate: 0.875 | time: 8.17 minutes\n",
      "hsize: 32 - Sum of win_history: 28\n",
      "Epoch: 079/1000 | Loss: 0.0006 | Episodes: 2 | Win count: 64 | Win rate: 0.875 | time: 8.18 minutes\n",
      "hsize: 32 - Sum of win_history: 28\n",
      "Epoch: 080/1000 | Loss: 0.0007 | Episodes: 46 | Win count: 65 | Win rate: 0.875 | time: 8.27 minutes\n",
      "hsize: 32 - Sum of win_history: 28\n",
      "Epoch: 081/1000 | Loss: 0.0005 | Episodes: 31 | Win count: 66 | Win rate: 0.875 | time: 8.33 minutes\n",
      "hsize: 32 - Sum of win_history: 28\n",
      "Epoch: 082/1000 | Loss: 0.0003 | Episodes: 24 | Win count: 67 | Win rate: 0.875 | time: 8.38 minutes\n",
      "hsize: 32 - Sum of win_history: 28\n",
      "Epoch: 083/1000 | Loss: 0.0009 | Episodes: 44 | Win count: 68 | Win rate: 0.875 | time: 8.47 minutes\n",
      "hsize: 32 - Sum of win_history: 28\n",
      "Epoch: 084/1000 | Loss: 0.0008 | Episodes: 37 | Win count: 69 | Win rate: 0.875 | time: 8.54 minutes\n",
      "hsize: 32 - Sum of win_history: 28\n",
      "Epoch: 085/1000 | Loss: 0.0009 | Episodes: 30 | Win count: 70 | Win rate: 0.875 | time: 8.59 minutes\n",
      "hsize: 32 - Sum of win_history: 28\n",
      "Epoch: 086/1000 | Loss: 0.0005 | Episodes: 11 | Win count: 71 | Win rate: 0.875 | time: 8.61 minutes\n",
      "hsize: 32 - Sum of win_history: 28\n",
      "Epoch: 087/1000 | Loss: 0.0004 | Episodes: 6 | Win count: 72 | Win rate: 0.875 | time: 8.62 minutes\n",
      "hsize: 32 - Sum of win_history: 28\n",
      "Epoch: 088/1000 | Loss: 0.0007 | Episodes: 27 | Win count: 73 | Win rate: 0.875 | time: 8.67 minutes\n",
      "hsize: 32 - Sum of win_history: 28\n",
      "Epoch: 089/1000 | Loss: 0.0001 | Episodes: 139 | Win count: 73 | Win rate: 0.844 | time: 8.92 minutes\n",
      "hsize: 32 - Sum of win_history: 27\n",
      "Epoch: 090/1000 | Loss: 0.0004 | Episodes: 5 | Win count: 74 | Win rate: 0.844 | time: 8.93 minutes\n",
      "hsize: 32 - Sum of win_history: 27\n",
      "Epoch: 091/1000 | Loss: 0.0003 | Episodes: 143 | Win count: 74 | Win rate: 0.812 | time: 9.19 minutes\n",
      "hsize: 32 - Sum of win_history: 26\n",
      "Epoch: 092/1000 | Loss: 0.0006 | Episodes: 33 | Win count: 75 | Win rate: 0.844 | time: 9.25 minutes\n",
      "hsize: 32 - Sum of win_history: 27\n",
      "Epoch: 093/1000 | Loss: 0.0005 | Episodes: 2 | Win count: 76 | Win rate: 0.875 | time: 9.25 minutes\n",
      "hsize: 32 - Sum of win_history: 28\n",
      "Epoch: 094/1000 | Loss: 0.0003 | Episodes: 3 | Win count: 77 | Win rate: 0.906 | time: 9.26 minutes\n",
      "hsize: 32 - Sum of win_history: 29\n",
      "Epoch: 095/1000 | Loss: 0.0001 | Episodes: 35 | Win count: 78 | Win rate: 0.938 | time: 9.32 minutes\n",
      "hsize: 32 - Sum of win_history: 30\n",
      "Epoch: 096/1000 | Loss: 0.0003 | Episodes: 55 | Win count: 79 | Win rate: 0.938 | time: 9.41 minutes\n",
      "hsize: 32 - Sum of win_history: 30\n",
      "Epoch: 097/1000 | Loss: 0.0010 | Episodes: 42 | Win count: 80 | Win rate: 0.938 | time: 9.49 minutes\n",
      "hsize: 32 - Sum of win_history: 30\n",
      "Epoch: 098/1000 | Loss: 0.0009 | Episodes: 35 | Win count: 81 | Win rate: 0.938 | time: 9.55 minutes\n",
      "hsize: 32 - Sum of win_history: 30\n",
      "Epoch: 099/1000 | Loss: 0.0006 | Episodes: 35 | Win count: 82 | Win rate: 0.938 | time: 9.62 minutes\n",
      "hsize: 32 - Sum of win_history: 30\n",
      "Epoch: 100/1000 | Loss: 0.0010 | Episodes: 21 | Win count: 83 | Win rate: 0.938 | time: 9.66 minutes\n",
      "hsize: 32 - Sum of win_history: 30\n",
      "Epoch: 101/1000 | Loss: 0.0010 | Episodes: 66 | Win count: 84 | Win rate: 0.938 | time: 9.79 minutes\n",
      "hsize: 32 - Sum of win_history: 30\n",
      "Epoch: 102/1000 | Loss: 0.0007 | Episodes: 22 | Win count: 85 | Win rate: 0.938 | time: 9.83 minutes\n",
      "hsize: 32 - Sum of win_history: 30\n",
      "Epoch: 103/1000 | Loss: 0.0014 | Episodes: 9 | Win count: 86 | Win rate: 0.938 | time: 9.84 minutes\n",
      "hsize: 32 - Sum of win_history: 30\n",
      "Epoch: 104/1000 | Loss: 0.0005 | Episodes: 10 | Win count: 87 | Win rate: 0.938 | time: 9.86 minutes\n",
      "hsize: 32 - Sum of win_history: 30\n",
      "Epoch: 105/1000 | Loss: 0.0007 | Episodes: 20 | Win count: 88 | Win rate: 0.938 | time: 9.90 minutes\n",
      "hsize: 32 - Sum of win_history: 30\n",
      "Epoch: 106/1000 | Loss: 0.0007 | Episodes: 10 | Win count: 89 | Win rate: 0.938 | time: 9.91 minutes\n",
      "hsize: 32 - Sum of win_history: 30\n",
      "Epoch: 107/1000 | Loss: 0.0004 | Episodes: 57 | Win count: 90 | Win rate: 0.938 | time: 10.01 minutes\n",
      "hsize: 32 - Sum of win_history: 30\n",
      "Epoch: 108/1000 | Loss: 0.0005 | Episodes: 134 | Win count: 90 | Win rate: 0.906 | time: 10.25 minutes\n",
      "hsize: 32 - Sum of win_history: 29\n",
      "Epoch: 109/1000 | Loss: 0.0005 | Episodes: 109 | Win count: 91 | Win rate: 0.906 | time: 10.45 minutes\n",
      "hsize: 32 - Sum of win_history: 29\n",
      "Epoch: 110/1000 | Loss: 0.0011 | Episodes: 4 | Win count: 92 | Win rate: 0.906 | time: 10.46 minutes\n",
      "hsize: 32 - Sum of win_history: 29\n",
      "Epoch: 111/1000 | Loss: 0.0004 | Episodes: 31 | Win count: 93 | Win rate: 0.906 | time: 10.54 minutes\n",
      "hsize: 32 - Sum of win_history: 29\n",
      "Epoch: 112/1000 | Loss: 0.0004 | Episodes: 25 | Win count: 94 | Win rate: 0.906 | time: 10.59 minutes\n",
      "hsize: 32 - Sum of win_history: 29\n",
      "Epoch: 113/1000 | Loss: 0.0005 | Episodes: 7 | Win count: 95 | Win rate: 0.906 | time: 10.60 minutes\n",
      "hsize: 32 - Sum of win_history: 29\n",
      "Epoch: 114/1000 | Loss: 0.0002 | Episodes: 132 | Win count: 96 | Win rate: 0.906 | time: 10.85 minutes\n",
      "hsize: 32 - Sum of win_history: 29\n",
      "Epoch: 115/1000 | Loss: 0.0006 | Episodes: 27 | Win count: 97 | Win rate: 0.906 | time: 10.90 minutes\n",
      "hsize: 32 - Sum of win_history: 29\n",
      "Epoch: 116/1000 | Loss: 0.0003 | Episodes: 53 | Win count: 98 | Win rate: 0.906 | time: 11.05 minutes\n",
      "hsize: 32 - Sum of win_history: 29\n",
      "Epoch: 117/1000 | Loss: 0.0003 | Episodes: 34 | Win count: 99 | Win rate: 0.906 | time: 11.14 minutes\n",
      "hsize: 32 - Sum of win_history: 29\n",
      "Epoch: 118/1000 | Loss: 0.0006 | Episodes: 77 | Win count: 100 | Win rate: 0.906 | time: 11.34 minutes\n",
      "hsize: 32 - Sum of win_history: 29\n",
      "Epoch: 119/1000 | Loss: 0.0002 | Episodes: 20 | Win count: 101 | Win rate: 0.906 | time: 11.39 minutes\n",
      "hsize: 32 - Sum of win_history: 29\n",
      "Epoch: 120/1000 | Loss: 0.0008 | Episodes: 37 | Win count: 102 | Win rate: 0.906 | time: 11.46 minutes\n",
      "hsize: 32 - Sum of win_history: 29\n",
      "Epoch: 121/1000 | Loss: 0.0003 | Episodes: 33 | Win count: 103 | Win rate: 0.938 | time: 11.53 minutes\n",
      "hsize: 32 - Sum of win_history: 30\n"
     ]
    },
    {
     "name": "stdout",
     "output_type": "stream",
     "text": [
      "Epoch: 122/1000 | Loss: 0.0003 | Episodes: 23 | Win count: 104 | Win rate: 0.938 | time: 11.58 minutes\n",
      "hsize: 32 - Sum of win_history: 30\n",
      "Epoch: 123/1000 | Loss: 0.0005 | Episodes: 24 | Win count: 105 | Win rate: 0.969 | time: 11.63 minutes\n",
      "hsize: 32 - Sum of win_history: 31\n",
      "Epoch: 124/1000 | Loss: 0.0006 | Episodes: 94 | Win count: 106 | Win rate: 0.969 | time: 11.82 minutes\n",
      "hsize: 32 - Sum of win_history: 31\n",
      "Epoch: 125/1000 | Loss: 0.0003 | Episodes: 1 | Win count: 107 | Win rate: 0.969 | time: 11.82 minutes\n",
      "hsize: 32 - Sum of win_history: 31\n",
      "Epoch: 126/1000 | Loss: 0.0007 | Episodes: 11 | Win count: 108 | Win rate: 0.969 | time: 11.85 minutes\n",
      "hsize: 32 - Sum of win_history: 31\n",
      "Epoch: 127/1000 | Loss: 0.0006 | Episodes: 134 | Win count: 108 | Win rate: 0.938 | time: 12.11 minutes\n",
      "hsize: 32 - Sum of win_history: 30\n",
      "Epoch: 128/1000 | Loss: 0.0004 | Episodes: 23 | Win count: 109 | Win rate: 0.938 | time: 12.15 minutes\n",
      "hsize: 32 - Sum of win_history: 30\n",
      "Epoch: 129/1000 | Loss: 0.0006 | Episodes: 18 | Win count: 110 | Win rate: 0.938 | time: 12.19 minutes\n",
      "hsize: 32 - Sum of win_history: 30\n",
      "Epoch: 130/1000 | Loss: 0.0003 | Episodes: 17 | Win count: 111 | Win rate: 0.938 | time: 12.22 minutes\n",
      "hsize: 32 - Sum of win_history: 30\n",
      "Epoch: 131/1000 | Loss: 0.0003 | Episodes: 19 | Win count: 112 | Win rate: 0.938 | time: 12.25 minutes\n",
      "hsize: 32 - Sum of win_history: 30\n",
      "Epoch: 132/1000 | Loss: 0.0003 | Episodes: 22 | Win count: 113 | Win rate: 0.938 | time: 12.29 minutes\n",
      "hsize: 32 - Sum of win_history: 30\n",
      "Epoch: 133/1000 | Loss: 0.0001 | Episodes: 12 | Win count: 114 | Win rate: 0.938 | time: 12.32 minutes\n",
      "hsize: 32 - Sum of win_history: 30\n",
      "Epoch: 134/1000 | Loss: 0.0001 | Episodes: 35 | Win count: 115 | Win rate: 0.938 | time: 12.41 minutes\n",
      "hsize: 32 - Sum of win_history: 30\n",
      "Epoch: 135/1000 | Loss: 0.0001 | Episodes: 27 | Win count: 116 | Win rate: 0.938 | time: 12.47 minutes\n",
      "hsize: 32 - Sum of win_history: 30\n",
      "Epoch: 136/1000 | Loss: 0.0003 | Episodes: 68 | Win count: 117 | Win rate: 0.938 | time: 12.62 minutes\n",
      "hsize: 32 - Sum of win_history: 30\n",
      "Epoch: 137/1000 | Loss: 0.0002 | Episodes: 22 | Win count: 118 | Win rate: 0.938 | time: 12.68 minutes\n",
      "hsize: 32 - Sum of win_history: 30\n",
      "Epoch: 138/1000 | Loss: 0.0004 | Episodes: 5 | Win count: 119 | Win rate: 0.938 | time: 12.70 minutes\n",
      "hsize: 32 - Sum of win_history: 30\n",
      "Epoch: 139/1000 | Loss: 0.0002 | Episodes: 24 | Win count: 120 | Win rate: 0.938 | time: 12.77 minutes\n",
      "hsize: 32 - Sum of win_history: 30\n",
      "Epoch: 140/1000 | Loss: 0.0003 | Episodes: 41 | Win count: 121 | Win rate: 0.969 | time: 12.88 minutes\n",
      "hsize: 32 - Sum of win_history: 31\n",
      "Epoch: 141/1000 | Loss: 0.0007 | Episodes: 52 | Win count: 122 | Win rate: 0.969 | time: 13.02 minutes\n",
      "hsize: 32 - Sum of win_history: 31\n",
      "Epoch: 142/1000 | Loss: 0.0002 | Episodes: 48 | Win count: 123 | Win rate: 0.969 | time: 13.15 minutes\n",
      "hsize: 32 - Sum of win_history: 31\n",
      "Epoch: 143/1000 | Loss: 0.0001 | Episodes: 15 | Win count: 124 | Win rate: 0.969 | time: 13.20 minutes\n",
      "hsize: 32 - Sum of win_history: 31\n",
      "Epoch: 144/1000 | Loss: 0.0005 | Episodes: 50 | Win count: 125 | Win rate: 0.969 | time: 13.34 minutes\n",
      "hsize: 32 - Sum of win_history: 31\n",
      "Epoch: 145/1000 | Loss: 0.0007 | Episodes: 14 | Win count: 126 | Win rate: 0.969 | time: 13.38 minutes\n",
      "hsize: 32 - Sum of win_history: 31\n",
      "Epoch: 146/1000 | Loss: 0.0004 | Episodes: 18 | Win count: 127 | Win rate: 0.969 | time: 13.43 minutes\n",
      "hsize: 32 - Sum of win_history: 31\n",
      "Epoch: 147/1000 | Loss: 0.0005 | Episodes: 37 | Win count: 128 | Win rate: 0.969 | time: 13.53 minutes\n",
      "hsize: 32 - Sum of win_history: 31\n",
      "Epoch: 148/1000 | Loss: 0.0003 | Episodes: 31 | Win count: 129 | Win rate: 0.969 | time: 13.62 minutes\n",
      "hsize: 32 - Sum of win_history: 31\n",
      "Epoch: 149/1000 | Loss: 0.0006 | Episodes: 19 | Win count: 130 | Win rate: 0.969 | time: 13.67 minutes\n",
      "hsize: 32 - Sum of win_history: 31\n",
      "Epoch: 150/1000 | Loss: 0.0000 | Episodes: 134 | Win count: 130 | Win rate: 0.938 | time: 14.05 minutes\n",
      "hsize: 32 - Sum of win_history: 30\n",
      "Epoch: 151/1000 | Loss: 0.0003 | Episodes: 8 | Win count: 131 | Win rate: 0.938 | time: 14.07 minutes\n",
      "hsize: 32 - Sum of win_history: 30\n",
      "Epoch: 152/1000 | Loss: 0.0002 | Episodes: 9 | Win count: 132 | Win rate: 0.938 | time: 14.10 minutes\n",
      "hsize: 32 - Sum of win_history: 30\n",
      "Epoch: 153/1000 | Loss: 0.0003 | Episodes: 73 | Win count: 133 | Win rate: 0.938 | time: 14.29 minutes\n",
      "hsize: 32 - Sum of win_history: 30\n",
      "Epoch: 154/1000 | Loss: 0.0001 | Episodes: 23 | Win count: 134 | Win rate: 0.938 | time: 14.36 minutes\n",
      "hsize: 32 - Sum of win_history: 30\n",
      "Epoch: 155/1000 | Loss: 0.0004 | Episodes: 21 | Win count: 135 | Win rate: 0.938 | time: 14.41 minutes\n",
      "hsize: 32 - Sum of win_history: 30\n",
      "Epoch: 156/1000 | Loss: 0.0004 | Episodes: 10 | Win count: 136 | Win rate: 0.938 | time: 14.44 minutes\n",
      "hsize: 32 - Sum of win_history: 30\n",
      "Epoch: 157/1000 | Loss: 0.0003 | Episodes: 8 | Win count: 137 | Win rate: 0.938 | time: 14.46 minutes\n",
      "hsize: 32 - Sum of win_history: 30\n",
      "Epoch: 158/1000 | Loss: 0.0002 | Episodes: 7 | Win count: 138 | Win rate: 0.938 | time: 14.48 minutes\n",
      "hsize: 32 - Sum of win_history: 30\n",
      "Epoch: 159/1000 | Loss: 0.0001 | Episodes: 18 | Win count: 139 | Win rate: 0.969 | time: 14.53 minutes\n",
      "hsize: 32 - Sum of win_history: 31\n",
      "Epoch: 160/1000 | Loss: 0.0001 | Episodes: 8 | Win count: 140 | Win rate: 0.969 | time: 14.55 minutes\n",
      "hsize: 32 - Sum of win_history: 31\n",
      "Epoch: 161/1000 | Loss: 0.0003 | Episodes: 2 | Win count: 141 | Win rate: 0.969 | time: 14.55 minutes\n",
      "hsize: 32 - Sum of win_history: 31\n",
      "Epoch: 162/1000 | Loss: 0.0003 | Episodes: 9 | Win count: 142 | Win rate: 0.969 | time: 14.58 minutes\n",
      "hsize: 32 - Sum of win_history: 31\n",
      "Epoch: 163/1000 | Loss: 0.0001 | Episodes: 20 | Win count: 143 | Win rate: 0.969 | time: 14.64 minutes\n",
      "hsize: 32 - Sum of win_history: 31\n",
      "Epoch: 164/1000 | Loss: 0.0002 | Episodes: 27 | Win count: 144 | Win rate: 0.969 | time: 14.72 minutes\n",
      "hsize: 32 - Sum of win_history: 31\n",
      "Epoch: 165/1000 | Loss: 0.0002 | Episodes: 1 | Win count: 145 | Win rate: 0.969 | time: 14.72 minutes\n",
      "hsize: 32 - Sum of win_history: 31\n",
      "Epoch: 166/1000 | Loss: 0.0005 | Episodes: 36 | Win count: 146 | Win rate: 0.969 | time: 14.83 minutes\n",
      "hsize: 32 - Sum of win_history: 31\n",
      "Epoch: 167/1000 | Loss: 0.0005 | Episodes: 10 | Win count: 147 | Win rate: 0.969 | time: 14.86 minutes\n",
      "hsize: 32 - Sum of win_history: 31\n",
      "Epoch: 168/1000 | Loss: 0.0001 | Episodes: 143 | Win count: 147 | Win rate: 0.938 | time: 15.27 minutes\n",
      "hsize: 32 - Sum of win_history: 30\n",
      "Epoch: 169/1000 | Loss: 0.0005 | Episodes: 46 | Win count: 148 | Win rate: 0.938 | time: 15.40 minutes\n",
      "hsize: 32 - Sum of win_history: 30\n",
      "Epoch: 170/1000 | Loss: 0.0005 | Episodes: 36 | Win count: 149 | Win rate: 0.938 | time: 15.50 minutes\n",
      "hsize: 32 - Sum of win_history: 30\n",
      "Epoch: 171/1000 | Loss: 0.0009 | Episodes: 137 | Win count: 149 | Win rate: 0.906 | time: 15.90 minutes\n",
      "hsize: 32 - Sum of win_history: 29\n",
      "Epoch: 172/1000 | Loss: 0.0011 | Episodes: 9 | Win count: 150 | Win rate: 0.906 | time: 15.93 minutes\n",
      "hsize: 32 - Sum of win_history: 29\n",
      "Epoch: 173/1000 | Loss: 0.0007 | Episodes: 90 | Win count: 151 | Win rate: 0.906 | time: 16.19 minutes\n",
      "hsize: 32 - Sum of win_history: 29\n",
      "Epoch: 174/1000 | Loss: 0.0005 | Episodes: 63 | Win count: 152 | Win rate: 0.906 | time: 16.36 minutes\n",
      "hsize: 32 - Sum of win_history: 29\n",
      "Epoch: 175/1000 | Loss: 0.0006 | Episodes: 12 | Win count: 153 | Win rate: 0.906 | time: 16.40 minutes\n",
      "hsize: 32 - Sum of win_history: 29\n",
      "Epoch: 176/1000 | Loss: 0.0007 | Episodes: 15 | Win count: 154 | Win rate: 0.906 | time: 16.44 minutes\n",
      "hsize: 32 - Sum of win_history: 29\n",
      "Epoch: 177/1000 | Loss: 0.0001 | Episodes: 138 | Win count: 154 | Win rate: 0.875 | time: 16.83 minutes\n",
      "hsize: 32 - Sum of win_history: 28\n",
      "Epoch: 178/1000 | Loss: 0.0008 | Episodes: 139 | Win count: 154 | Win rate: 0.844 | time: 17.22 minutes\n",
      "hsize: 32 - Sum of win_history: 27\n",
      "Epoch: 179/1000 | Loss: 0.0009 | Episodes: 1 | Win count: 155 | Win rate: 0.844 | time: 17.22 minutes\n",
      "hsize: 32 - Sum of win_history: 27\n",
      "Epoch: 180/1000 | Loss: 0.0006 | Episodes: 19 | Win count: 156 | Win rate: 0.844 | time: 17.28 minutes\n",
      "hsize: 32 - Sum of win_history: 27\n",
      "Epoch: 181/1000 | Loss: 0.0002 | Episodes: 64 | Win count: 157 | Win rate: 0.844 | time: 17.46 minutes\n",
      "hsize: 32 - Sum of win_history: 27\n"
     ]
    },
    {
     "name": "stdout",
     "output_type": "stream",
     "text": [
      "Epoch: 182/1000 | Loss: 0.0005 | Episodes: 21 | Win count: 158 | Win rate: 0.875 | time: 17.51 minutes\n",
      "hsize: 32 - Sum of win_history: 28\n",
      "Epoch: 183/1000 | Loss: 0.0012 | Episodes: 20 | Win count: 159 | Win rate: 0.875 | time: 17.58 minutes\n",
      "hsize: 32 - Sum of win_history: 28\n",
      "Epoch: 184/1000 | Loss: 0.0003 | Episodes: 11 | Win count: 160 | Win rate: 0.875 | time: 17.61 minutes\n",
      "hsize: 32 - Sum of win_history: 28\n",
      "Epoch: 185/1000 | Loss: 0.0005 | Episodes: 53 | Win count: 161 | Win rate: 0.875 | time: 17.76 minutes\n",
      "hsize: 32 - Sum of win_history: 28\n",
      "Epoch: 186/1000 | Loss: 0.0006 | Episodes: 40 | Win count: 162 | Win rate: 0.875 | time: 17.88 minutes\n",
      "hsize: 32 - Sum of win_history: 28\n",
      "Epoch: 187/1000 | Loss: 0.0005 | Episodes: 9 | Win count: 163 | Win rate: 0.875 | time: 17.90 minutes\n",
      "hsize: 32 - Sum of win_history: 28\n",
      "Epoch: 188/1000 | Loss: 0.0011 | Episodes: 71 | Win count: 164 | Win rate: 0.875 | time: 18.10 minutes\n",
      "hsize: 32 - Sum of win_history: 28\n",
      "Epoch: 189/1000 | Loss: 0.0009 | Episodes: 28 | Win count: 165 | Win rate: 0.875 | time: 18.18 minutes\n",
      "hsize: 32 - Sum of win_history: 28\n",
      "Epoch: 190/1000 | Loss: 0.0012 | Episodes: 27 | Win count: 166 | Win rate: 0.875 | time: 18.27 minutes\n",
      "hsize: 32 - Sum of win_history: 28\n",
      "Epoch: 191/1000 | Loss: 0.0006 | Episodes: 16 | Win count: 167 | Win rate: 0.875 | time: 18.32 minutes\n",
      "hsize: 32 - Sum of win_history: 28\n",
      "Epoch: 192/1000 | Loss: 0.0006 | Episodes: 5 | Win count: 168 | Win rate: 0.875 | time: 18.33 minutes\n",
      "hsize: 32 - Sum of win_history: 28\n",
      "Epoch: 193/1000 | Loss: 0.0003 | Episodes: 19 | Win count: 169 | Win rate: 0.875 | time: 18.39 minutes\n",
      "hsize: 32 - Sum of win_history: 28\n",
      "Epoch: 194/1000 | Loss: 0.0006 | Episodes: 13 | Win count: 170 | Win rate: 0.875 | time: 18.43 minutes\n",
      "hsize: 32 - Sum of win_history: 28\n",
      "Epoch: 195/1000 | Loss: 0.0008 | Episodes: 30 | Win count: 171 | Win rate: 0.875 | time: 18.52 minutes\n",
      "hsize: 32 - Sum of win_history: 28\n",
      "Epoch: 196/1000 | Loss: 0.0003 | Episodes: 27 | Win count: 172 | Win rate: 0.875 | time: 18.60 minutes\n",
      "hsize: 32 - Sum of win_history: 28\n",
      "Epoch: 197/1000 | Loss: 0.0006 | Episodes: 3 | Win count: 173 | Win rate: 0.875 | time: 18.61 minutes\n",
      "hsize: 32 - Sum of win_history: 28\n",
      "Epoch: 198/1000 | Loss: 0.0005 | Episodes: 30 | Win count: 174 | Win rate: 0.875 | time: 18.69 minutes\n",
      "hsize: 32 - Sum of win_history: 28\n",
      "Epoch: 199/1000 | Loss: 0.0005 | Episodes: 5 | Win count: 175 | Win rate: 0.875 | time: 18.71 minutes\n",
      "hsize: 32 - Sum of win_history: 28\n",
      "Epoch: 200/1000 | Loss: 0.0003 | Episodes: 32 | Win count: 176 | Win rate: 0.906 | time: 18.80 minutes\n",
      "hsize: 32 - Sum of win_history: 29\n",
      "Epoch: 201/1000 | Loss: 0.0006 | Episodes: 2 | Win count: 177 | Win rate: 0.906 | time: 18.81 minutes\n",
      "hsize: 32 - Sum of win_history: 29\n",
      "Epoch: 202/1000 | Loss: 0.0004 | Episodes: 7 | Win count: 178 | Win rate: 0.906 | time: 18.83 minutes\n",
      "hsize: 32 - Sum of win_history: 29\n",
      "Epoch: 203/1000 | Loss: 0.0002 | Episodes: 11 | Win count: 179 | Win rate: 0.938 | time: 18.87 minutes\n",
      "hsize: 32 - Sum of win_history: 30\n",
      "Epoch: 204/1000 | Loss: 0.0008 | Episodes: 3 | Win count: 180 | Win rate: 0.938 | time: 18.88 minutes\n",
      "hsize: 32 - Sum of win_history: 30\n",
      "Epoch: 205/1000 | Loss: 0.0001 | Episodes: 28 | Win count: 181 | Win rate: 0.938 | time: 18.97 minutes\n",
      "hsize: 32 - Sum of win_history: 30\n",
      "Epoch: 206/1000 | Loss: 0.0004 | Episodes: 5 | Win count: 182 | Win rate: 0.938 | time: 18.98 minutes\n",
      "hsize: 32 - Sum of win_history: 30\n",
      "Epoch: 207/1000 | Loss: 0.0002 | Episodes: 6 | Win count: 183 | Win rate: 0.938 | time: 19.00 minutes\n",
      "hsize: 32 - Sum of win_history: 30\n",
      "Epoch: 208/1000 | Loss: 0.0006 | Episodes: 32 | Win count: 184 | Win rate: 0.938 | time: 19.09 minutes\n",
      "hsize: 32 - Sum of win_history: 30\n",
      "Epoch: 209/1000 | Loss: 0.0006 | Episodes: 11 | Win count: 185 | Win rate: 0.969 | time: 19.12 minutes\n",
      "hsize: 32 - Sum of win_history: 31\n",
      "Epoch: 210/1000 | Loss: 0.0010 | Episodes: 8 | Win count: 186 | Win rate: 1.000 | time: 19.15 minutes\n",
      "hsize: 32 - Sum of win_history: 32\n",
      "Reached 100% win rate at epoch: 210\n",
      "n_epoch: 210, max_mem: 512, data: 32, time: 19.15 minutes\n"
     ]
    },
    {
     "data": {
      "text/plain": [
       "1148.838375"
      ]
     },
     "execution_count": 11,
     "metadata": {},
     "output_type": "execute_result"
    }
   ],
   "source": [
    "model = build_model(maze)\n",
    "qtrain(model, maze, n_epoch=1000, max_memory=8*maze.size, data_size=32)"
   ]
  },
  {
   "cell_type": "markdown",
   "metadata": {},
   "source": [
    "This cell will check to see if the model passes the completion check. Note: This could take several minutes."
   ]
  },
  {
   "cell_type": "code",
   "execution_count": 12,
   "metadata": {},
   "outputs": [
    {
     "data": {
      "text/plain": [
       "<matplotlib.image.AxesImage at 0x2d196959e08>"
      ]
     },
     "execution_count": 12,
     "metadata": {},
     "output_type": "execute_result"
    },
    {
     "data": {
      "image/png": "[encoded data removed]",
      "text/plain": [
       "<Figure size 432x288 with 1 Axes>"
      ]
     },
     "metadata": {
      "needs_background": "light"
     },
     "output_type": "display_data"
    }
   ],
   "source": [
    "completion_check(model, qmaze)\n",
    "show(qmaze)"
   ]
  },
  {
   "cell_type": "markdown",
   "metadata": {},
   "source": [
    "This cell will test your model for one game. It will start the pirate at the top-left corner and run play_game. The agent should find a path from the starting position to the target (treasure). The treasure is located in the bottom-right corner."
   ]
  },
  {
   "cell_type": "code",
   "execution_count": 13,
   "metadata": {},
   "outputs": [
    {
     "data": {
      "text/plain": [
       "<matplotlib.image.AxesImage at 0x2d19635dd08>"
      ]
     },
     "execution_count": 13,
     "metadata": {},
     "output_type": "execute_result"
    },
    {
     "data": {
      "image/png": "[encoded data removed]",
      "text/plain": [
       "<Figure size 432x288 with 1 Axes>"
      ]
     },
     "metadata": {
      "needs_background": "light"
     },
     "output_type": "display_data"
    }
   ],
   "source": [
    "pirate_start = (0, 0)\n",
    "play_game(model, qmaze, pirate_start)\n",
    "show(qmaze)"
   ]
  },
  {
   "cell_type": "markdown",
   "metadata": {},
   "source": [
    "## Save and Submit Your Work\n",
    "After you have finished creating the code for your notebook, save your work. Make sure that your notebook contains your name in the filename (e.g. Doe_Jane_ProjectTwo.ipynb). This will help your instructor access and grade your work easily. Download a copy of your IPYNB file and submit it to Brightspace. Refer to the Jupyter Notebook in Apporto Tutorial if you need help with these tasks."
   ]
  }
 ],
 "metadata": {
  "kernelspec": {
   "display_name": "Python 3",
   "language": "python",
   "name": "python3"
  },
  "language_info": {
   "codemirror_mode": {
    "name": "ipython",
    "version": 3
   },
   "file_extension": ".py",
   "mimetype": "text/x-python",
   "name": "python",
   "nbconvert_exporter": "python",
   "pygments_lexer": "ipython3",
   "version": "3.7.4"
  }
 },
 "nbformat": 4,
 "nbformat_minor": 2
}
